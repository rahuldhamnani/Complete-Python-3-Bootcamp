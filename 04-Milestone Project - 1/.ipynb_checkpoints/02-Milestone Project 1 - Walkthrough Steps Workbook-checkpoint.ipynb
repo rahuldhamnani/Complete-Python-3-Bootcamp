{
 "cells": [
  {
   "cell_type": "markdown",
   "metadata": {},
   "source": [
    "# Milestone Project 1: Walkthrough Steps Workbook\n",
    "\n",
    "Below is a set of steps for you to follow to try to create the Tic Tac Toe Milestone Project game!"
   ]
  },
  {
   "cell_type": "markdown",
   "metadata": {},
   "source": [
    "#### Some suggested tools before you get started:\n",
    "To take input from a user:\n",
    "\n",
    "    player1 = input(\"Please pick a marker 'X' or 'O'\")\n",
    "    \n",
    "Note that input() takes in a string. If you need an integer value, use\n",
    "\n",
    "    position = int(input('Please enter a number'))\n",
    "    \n",
    "<br>To clear the screen between moves:\n",
    "\n",
    "    from IPython.display import clear_output\n",
    "    clear_output()\n",
    "    \n",
    "Note that clear_output() will only work in jupyter. To clear the screen in other IDEs, consider:\n",
    "\n",
    "    print('\\n'*100)\n",
    "    \n",
    "This scrolls the previous board up out of view. Now on to the program!"
   ]
  },
  {
   "cell_type": "markdown",
   "metadata": {},
   "source": [
    "**Step 1: Write a function that can print out a board. Set up your board as a list, where each index 1-9 corresponds with a number on a number pad, so you get a 3 by 3 board representation.**"
   ]
  },
  {
   "cell_type": "code",
   "execution_count": 1,
   "metadata": {},
   "outputs": [],
   "source": [
    "from IPython.display import clear_output\n",
    "\n",
    "def display_board(board):\n",
    "    \n",
    "    clear_output()\n",
    "    \n",
    "    a = ''\n",
    "    if 'X' in board or 'O' in board:\n",
    "        a = ' '\n",
    "    counter = 1\n",
    "    for i in [1,4,7]:\n",
    "        print(\" \"+ a + \" | \" + a + \" | \"+ a+ \" \")\n",
    "        print(\" \"+ (board[i] if board[i] in ['X', 'O'] else a) + \" | \" + (board[i+1] if board[i+1] in ['X', 'O'] else a) + \" | \"+ (board[i+2] if board[i+2] in ['X', 'O'] else a) + \" \")\n",
    "        print(\" \"+ a + \" | \" + a + \" | \"+ a + \" \")\n",
    "        if counter != 3:\n",
    "            print(\"----------\")\n",
    "        counter+=1\n",
    "    pass"
   ]
  },
  {
   "cell_type": "markdown",
   "metadata": {},
   "source": [
    "**TEST Step 1:** run your function on a test version of the board list, and make adjustments as necessary"
   ]
  },
  {
   "cell_type": "code",
   "execution_count": 2,
   "metadata": {},
   "outputs": [
    {
     "name": "stdout",
     "output_type": "stream",
     "text": [
      "   |   |   \n",
      " X | O | X \n",
      "   |   |   \n",
      "----------\n",
      "   |   |   \n",
      "   | X | O \n",
      "   |   |   \n",
      "----------\n",
      "   |   |   \n",
      " X | O | X \n",
      "   |   |   \n"
     ]
    }
   ],
   "source": [
    "test_board = ['#','X','O','X','','X','O','X','O','X']\n",
    "display_board(test_board)"
   ]
  },
  {
   "cell_type": "markdown",
   "metadata": {},
   "source": [
    "**Step 2: Write a function that can take in a player input and assign their marker as 'X' or 'O'. Think about using *while* loops to continually ask until you get a correct answer.**"
   ]
  },
  {
   "cell_type": "code",
   "execution_count": 3,
   "metadata": {},
   "outputs": [],
   "source": [
    "def player_input():\n",
    "    while(True):\n",
    "        a = int(input(\"Please enter position on the board!\\n\"))\n",
    "        if a in range(1,10):\n",
    "            return a\n",
    "        print(\"position has to be between 1-9. Let's do it again..\")\n",
    "    pass"
   ]
  },
  {
   "cell_type": "markdown",
   "metadata": {},
   "source": [
    "**TEST Step 2:** run the function to make sure it returns the desired output"
   ]
  },
  {
   "cell_type": "code",
   "execution_count": 4,
   "metadata": {},
   "outputs": [],
   "source": [
    "#player_input()"
   ]
  },
  {
   "cell_type": "markdown",
   "metadata": {},
   "source": [
    "**Step 3: Write a function that takes in the board list object, a marker ('X' or 'O'), and a desired position (number 1-9) and assigns it to the board.**"
   ]
  },
  {
   "cell_type": "code",
   "execution_count": 5,
   "metadata": {},
   "outputs": [],
   "source": [
    "def place_marker(board, marker, position):\n",
    "    board[position] = marker\n",
    "    return board\n",
    "    pass"
   ]
  },
  {
   "cell_type": "markdown",
   "metadata": {},
   "source": [
    "**TEST Step 3:** run the place marker function using test parameters and display the modified board"
   ]
  },
  {
   "cell_type": "code",
   "execution_count": 6,
   "metadata": {},
   "outputs": [
    {
     "name": "stdout",
     "output_type": "stream",
     "text": [
      "   |   |   \n",
      " X | O | X \n",
      "   |   |   \n",
      "----------\n",
      "   |   |   \n",
      "   | X | O \n",
      "   |   |   \n",
      "----------\n",
      "   |   |   \n",
      "   | O | X \n",
      "   |   |   \n"
     ]
    }
   ],
   "source": [
    "test_board = place_marker(test_board,'$',7)\n",
    "display_board(test_board)"
   ]
  },
  {
   "cell_type": "markdown",
   "metadata": {},
   "source": [
    "**Step 4: Write a function that takes in a board and a mark (X or O) and then checks to see if that mark has won. **"
   ]
  },
  {
   "cell_type": "code",
   "execution_count": 7,
   "metadata": {},
   "outputs": [],
   "source": [
    "def win_check(board, mark): \n",
    "    \n",
    "#     check for row 1\n",
    "    if board[1:4] == [mark, mark, mark]:\n",
    "        print(mark+\" won\")\n",
    "        return True\n",
    "#     check for row 2\n",
    "    if board[4:7] == [mark, mark, mark]:\n",
    "        print(mark+\" won\")\n",
    "        return True\n",
    "#     check for row 3\n",
    "    if board[7:10] == [mark, mark, mark]:\n",
    "        print(mark+\" won\")\n",
    "        return True\n",
    "#     check for diagonal 1\n",
    "    if board[1:10:4] == [mark, mark, mark]:\n",
    "        print(mark+\" won\")\n",
    "        return True\n",
    "#     check for diagonal 2\n",
    "    if board[3:9:2] == [mark, mark, mark]:\n",
    "        print(mark+\" won\")\n",
    "        return True\n",
    "#     check for col 1\n",
    "    if board[1:10:3] == [mark, mark, mark]:\n",
    "        print(mark+\" won\")\n",
    "        return True\n",
    "#     check for col 2\n",
    "    if board[2:10:3] == [mark, mark, mark]:\n",
    "        print(mark+\" won\")\n",
    "        return True\n",
    "#     check for col 1\n",
    "    if board[3:10:3] == [mark, mark, mark]:\n",
    "        print(mark+\" won\")\n",
    "        return True\n",
    "    \n",
    "    return False"
   ]
  },
  {
   "cell_type": "markdown",
   "metadata": {},
   "source": [
    "**TEST Step 4:** run the win_check function against our test_board - it should return True"
   ]
  },
  {
   "cell_type": "code",
   "execution_count": 8,
   "metadata": {},
   "outputs": [
    {
     "data": {
      "text/plain": [
       "True"
      ]
     },
     "execution_count": 8,
     "metadata": {},
     "output_type": "execute_result"
    }
   ],
   "source": [
    "board = ['#', 'X', 'O', 'O', 'X', 'X', 'X', 'X', 'O', 'O']\n",
    "board[4:7] == ['X', 'X', 'X']\n",
    "#win_check(board, 'X')"
   ]
  },
  {
   "cell_type": "markdown",
   "metadata": {},
   "source": [
    "**Step 5: Write a function that uses the random module to randomly decide which player goes first. You may want to lookup random.randint() Return a string of which player went first.**"
   ]
  },
  {
   "cell_type": "code",
   "execution_count": 9,
   "metadata": {},
   "outputs": [],
   "source": [
    "import random\n",
    "\n",
    "def choose_first():\n",
    "    first = 0\n",
    "    x = random.randint(1,6)\n",
    "    if x in range(1,4):\n",
    "        first = 1\n",
    "        marker = 'X'\n",
    "        print(\"Player 1 goes first\")\n",
    "        return first, marker\n",
    "    else:\n",
    "        first = 2\n",
    "        marker = 'X'\n",
    "        print(\"Player 2 goes first\")    \n",
    "        return first, marker\n",
    "    pass"
   ]
  },
  {
   "cell_type": "markdown",
   "metadata": {},
   "source": [
    "**Step 6: Write a function that returns a boolean indicating whether a space on the board is freely available.**"
   ]
  },
  {
   "cell_type": "code",
   "execution_count": 10,
   "metadata": {},
   "outputs": [],
   "source": [
    "def space_check(board, position):\n",
    "    if board[position] == '':\n",
    "        return True\n",
    "    else:\n",
    "        return False\n",
    "    pass"
   ]
  },
  {
   "cell_type": "markdown",
   "metadata": {},
   "source": [
    "**Step 7: Write a function that checks if the board is full and returns a boolean value. True if full, False otherwise.**"
   ]
  },
  {
   "cell_type": "code",
   "execution_count": 11,
   "metadata": {},
   "outputs": [],
   "source": [
    "def full_board_check(board):\n",
    "    if '' not in board:\n",
    "        return True\n",
    "    else:\n",
    "        return False\n",
    "    pass"
   ]
  },
  {
   "cell_type": "markdown",
   "metadata": {},
   "source": [
    "**Step 8: Write a function that asks for a player's next position (as a number 1-9) and then uses the function from step 6 to check if it's a free position. If it is, then return the position for later use.**"
   ]
  },
  {
   "cell_type": "code",
   "execution_count": 12,
   "metadata": {},
   "outputs": [],
   "source": [
    "def player_choice(board):\n",
    "    pos = int(input(\"Enter a position on the board (1-9)\"))\n",
    "    check = space_check(board, pos)\n",
    "    if check:\n",
    "        return pos\n",
    "    else:\n",
    "        return -1\n",
    "    pass"
   ]
  },
  {
   "cell_type": "markdown",
   "metadata": {},
   "source": [
    "**Step 9: Write a function that asks the player if they want to play again and returns a boolean True if they do want to play again.**"
   ]
  },
  {
   "cell_type": "code",
   "execution_count": 13,
   "metadata": {},
   "outputs": [],
   "source": [
    "def replay():\n",
    "    \n",
    "    while(True):\n",
    "        check = input(\"Do you want to play again? (Yes/No) \").lower()\n",
    "        if check in ['yes','no']:\n",
    "            break\n",
    "    \n",
    "    if check == 'yes':\n",
    "        return True\n",
    "    else:\n",
    "        return False\n",
    "    \n",
    "    pass"
   ]
  },
  {
   "cell_type": "markdown",
   "metadata": {
    "collapsed": true
   },
   "source": [
    "**Step 10: Here comes the hard part! Use while loops and the functions you've made to run the game!**"
   ]
  },
  {
   "cell_type": "code",
   "execution_count": 14,
   "metadata": {},
   "outputs": [
    {
     "name": "stdout",
     "output_type": "stream",
     "text": [
      "   |   |   \n",
      " O |   | X \n",
      "   |   |   \n",
      "----------\n",
      "   |   |   \n",
      "   | O | O \n",
      "   |   |   \n",
      "----------\n",
      "   |   |   \n",
      " X | X | X \n",
      "   |   |   \n",
      "X won\n",
      "Do you want to play again? (Yes/No) No\n",
      "Thank you for playing Tic Tac Toe!\n"
     ]
    }
   ],
   "source": [
    "print('Welcome to Tic Tac Toe!')\n",
    "\n",
    "rep = True\n",
    "game_on = False\n",
    "\n",
    "while rep:\n",
    "    \n",
    "    board = ['#','','','','','','','','','']\n",
    "    \n",
    "    display_board(board)\n",
    "    \n",
    "    turn, marker = choose_first()\n",
    "    \n",
    "    while not game_on:\n",
    "        \n",
    "        # iteration 1.1\n",
    "        print(\"Player @{} turn\".format(turn))\n",
    "        pos = player_input()\n",
    "        \n",
    "        while not space_check(board, pos):\n",
    "            print(\"Position entered is already used!\")\n",
    "            pos = player_input()\n",
    "        \n",
    "        place_marker(board, marker, pos)\n",
    "        display_board(board)\n",
    "        \n",
    "        if win_check(board,marker):\n",
    "            break\n",
    "        \n",
    "        \n",
    "        game_on = full_board_check(board)\n",
    "        if game_on:\n",
    "            print('Board is full!')\n",
    "            break\n",
    "        \n",
    "        \n",
    "         # iteration 1.2\n",
    "        \n",
    "        if turn == 2:\n",
    "            turn = 1\n",
    "        else:\n",
    "            turn = 2\n",
    "        \n",
    "        if marker == 'X':\n",
    "            marker = 'O'\n",
    "        else:\n",
    "            marker = 'X'\n",
    "        \n",
    "        \n",
    "        print(\"Player @{} turn\".format(turn))\n",
    "        pos = player_input()\n",
    "        \n",
    "        while not space_check(board, pos):\n",
    "            print(\"Position entered is already used!!\")\n",
    "            pos = player_input()\n",
    "        \n",
    "        place_marker(board, marker, pos)\n",
    "        display_board(board)\n",
    "        \n",
    "        if win_check(board,marker):\n",
    "            break\n",
    "        \n",
    "        game_on = full_board_check(board)\n",
    "        if game_on:\n",
    "            print('Board is full!')\n",
    "            break\n",
    "       \n",
    "        # for iteration 1.1\n",
    "        if turn == 2:\n",
    "            turn = 1\n",
    "        else:\n",
    "            turn = 2\n",
    "        \n",
    "        if marker == 'X':\n",
    "            marker = 'O'\n",
    "        else:\n",
    "            marker = 'X'\n",
    "            \n",
    "        \n",
    "        \n",
    "        \n",
    "    rep = replay()\n",
    "\n",
    "print(\"Thank you for playing Tic Tac Toe!\")\n",
    "pass\n",
    "#while True:\n",
    "    # Set the game up here\n",
    "    #pass\n",
    "\n",
    "    #while game_on:\n",
    "        #Player 1 Turn\n",
    "        \n",
    "        \n",
    "        # Player2's turn.\n",
    "            \n",
    "            #pass\n",
    "\n",
    "    #if not replay():\n",
    "        #break"
   ]
  },
  {
   "cell_type": "markdown",
   "metadata": {
    "collapsed": true
   },
   "source": [
    "## Good Job!"
   ]
  }
 ],
 "metadata": {
  "kernelspec": {
   "display_name": "Python 3",
   "language": "python",
   "name": "python3"
  },
  "language_info": {
   "codemirror_mode": {
    "name": "ipython",
    "version": 3
   },
   "file_extension": ".py",
   "mimetype": "text/x-python",
   "name": "python",
   "nbconvert_exporter": "python",
   "pygments_lexer": "ipython3",
   "version": "3.7.4"
  }
 },
 "nbformat": 4,
 "nbformat_minor": 1
}
